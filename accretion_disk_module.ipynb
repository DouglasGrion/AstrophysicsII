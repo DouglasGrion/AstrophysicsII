{
 "cells": [
  {
   "cell_type": "markdown",
   "metadata": {
    "id": "GaN6DXULonEq"
   },
   "source": [
    "### Accretion Disks\n",
    "\n",
    "Ruth Murray-Clay, Astrophysics II"
   ]
  },
  {
   "cell_type": "markdown",
   "metadata": {
    "id": "BPuLL9B4onEr"
   },
   "source": [
    "**Goal:** \n",
    "\n",
    "We want to solve the time evolution of the surface density of an accretion disk, which evolves according to:\n",
    "\n",
    "$\\frac{\\partial\\Sigma}{\\partial t} = \\frac{3}{r} \\frac{\\partial}{\\partial r}\\left[r^{1/2} \\frac{\\partial}{\\partial r} (\\Sigma \\nu r^{1/2})\\right]$"
   ]
  },
  {
   "cell_type": "markdown",
   "metadata": {
    "id": "t6vTBBBXonEr"
   },
   "source": [
    "### Set up"
   ]
  },
  {
   "cell_type": "markdown",
   "metadata": {
    "id": "KCj2I4BzonEr"
   },
   "source": [
    "#### Import packages"
   ]
  },
  {
   "cell_type": "code",
   "execution_count": 1,
   "metadata": {
    "id": "B2eIy2AIonEr"
   },
   "outputs": [],
   "source": [
    "import numpy as np\n",
    "import matplotlib.pyplot as plt\n",
    "import time\n",
    "import math"
   ]
  },
  {
   "cell_type": "markdown",
   "metadata": {
    "id": "qDaqwLEzonEr"
   },
   "source": [
    "#### Define constants"
   ]
  },
  {
   "cell_type": "code",
   "execution_count": 2,
   "metadata": {
    "id": "s-UdVtwhonEr"
   },
   "outputs": [],
   "source": [
    "Msun = 1.99e33 # g; mass of the Sun\n",
    "AU = 1.496e13 # cm; Astronomical Unit\n",
    "sec_to_years = 3.154e7 # number of seconds in a year\n",
    "kB = 1.3807e-16 # erg/K; Boltzmann constant\n",
    "mH = 1.6733e-24 # g; mass of hydrogen atom\n",
    "G = 6.67259e-8 # cm^3/g/s^2; gravitational constant"
   ]
  },
  {
   "cell_type": "markdown",
   "metadata": {
    "id": "kfVS9hqdonEs"
   },
   "source": [
    "#### Utility for solving a matrix equation\n",
    "Utility for solving equations of the form $M\\vec x = \\vec r$, where M is a tri-diagonal matrix (the only non-zero entries are on the diagonal or one to the left or right of the diagonal).  This function takes vectors $\\vec a$, $\\vec b$, and $\\vec c$ describing the entries in $M$.  It also takes the vector $\\vec r$.  It solves for $\\vec x$.\n",
    "\n",
    "IT IS NOT NECESSARY TO UNDERSTAND HOW THIS FUNCTION WORKS FOR THIS CLASS, just to know what it does."
   ]
  },
  {
   "cell_type": "code",
   "execution_count": 3,
   "metadata": {
    "id": "kqVa0Y-0onEs"
   },
   "outputs": [],
   "source": [
    "def solve_tri_diag(a,b,c,r):\n",
    "    \n",
    "    \"\"\"Solver for tri-diagonal matrices, i.e. matrices where the only non-zero entries are on the diagonal\n",
    "    or one to the left or right of the diagonal. Adapted from Chap. 2 of Numerical Recipies by Mickey Rosenthal\"\"\"\n",
    "    \n",
    "    # In each row of the matrix, b is the value on the diagonal, \n",
    "    # a is the value to the left of the diagonal, and\n",
    "    # c is the value to the right of the diagonal.\n",
    "    # The vectors a, b, and c are indexed by the matrix row.\n",
    "    \n",
    "    # The vector r is the right-hand-side of the equation.\n",
    "    # Calling the matrix M, we are solving for the vector x in Mx = r.\n",
    "    \n",
    "    N = len(a)\n",
    "    u = np.zeros(N)\n",
    "    gamma = np.zeros(N)\n",
    "    \n",
    "    # return an error if the top left corner value of the matrix is zero\n",
    "    assert b[0]!=0,\"Linearly dependent system of equations\"\n",
    "    \n",
    "    # solve\n",
    "    \n",
    "    beta = b[0]\n",
    "    u[0] = r[0]/beta\n",
    "    \n",
    "    for j in range(1,N):\n",
    "        gamma[j] = c[j-1]/beta\n",
    "        beta = b[j] - a[j]*gamma[j]\n",
    "        \n",
    "        # if you ever get a zero \"pivot\", the matrix isn't in the right form,\n",
    "        # so return an error to avoid division by zero\n",
    "        assert beta!=0, \"Zero pivot at j = \"+str(j)\n",
    "        \n",
    "        u[j] = (r[j]-a[j]*u[j-1])/beta\n",
    "    \n",
    "    for j in reversed(range(N-1)):\n",
    "        u[j] -= gamma[j+1]*u[j+1]\n",
    "        \n",
    "    return u"
   ]
  },
  {
   "cell_type": "markdown",
   "metadata": {
    "id": "TyWS5B6qonEs"
   },
   "source": [
    "### Self-similar solution\n",
    "\n",
    "There exists a *self-similar* solution to the equation that has a nice analytic form over time.  **Plug in the function calculated below into the disk evolution equation at the top of the notebook and verify that it is a solution to the equation.** You can choose to do the case  $\\gamma=1$  to make the algebra less messy. You can put your calculation in a Markdown cell or add it to your written homework solutions."
   ]
  },
  {
   "cell_type": "code",
   "execution_count": 4,
   "metadata": {
    "id": "RTEuNo9uonEs"
   },
   "outputs": [],
   "source": [
    "# This function returns an array of the surface density of the disk (in g/cm^2) \n",
    "# at the radii in rad_array (provided in cm).  \n",
    "# rscale (cm) = scale of the disk at time 0\n",
    "# sigma0 (g/cm^2) = disk surface density at time 0 and radius rscale\n",
    "# kinematic viscosity nu is given by nu = nu0*(rad_array/rscale)**gamma\n",
    "# nu0 (cm^2/s) = viscosity at rscale\n",
    "# gamma = exponent for viscosity's radial dependence\n",
    "\n",
    "def sig_sim(t, rad_arr, rscale, sigma0, nu0, gamma):\n",
    "    \n",
    "    R = rad_arr/rscale # normalized radius variable\n",
    "    \n",
    "    tvisc = rscale**2/nu0 / (3*(2-gamma)**2) # viscous timescale times an order unity constant\n",
    "    T = t/tvisc + 1 # time normalized to viscous timescale\n",
    "    \n",
    "    C = sigma0*np.exp(1) # normalization coefficient\n",
    "    sigma = C/R**gamma*T**(-(5./2.-gamma)/(2.-gamma))*np.exp(-R**(2.-gamma)/T)\n",
    "    \n",
    "    return sigma"
   ]
  },
  {
   "cell_type": "markdown",
   "metadata": {
    "id": "MnFAU-tnonEs"
   },
   "source": [
    "#### Set up radial array for disk"
   ]
  },
  {
   "cell_type": "code",
   "execution_count": 5,
   "metadata": {
    "id": "lY2AjCVBonEs"
   },
   "outputs": [],
   "source": [
    "npts = 3000 # number of radial points\n",
    "# set up an array of radii that are log-spaced so we can plot results over a range of radii\n",
    "r_inner = 0.01*AU\n",
    "r_outer = 1e3*AU\n",
    "rad_arr = np.linspace(r_inner,r_outer,num=npts) # cm"
   ]
  },
  {
   "cell_type": "markdown",
   "metadata": {
    "id": "ABVAr-ZwonEs"
   },
   "source": [
    "#### Disk parameters"
   ]
  },
  {
   "cell_type": "code",
   "execution_count": 6,
   "metadata": {
    "id": "S7p4oSB0onEs"
   },
   "outputs": [],
   "source": [
    "rscale = 10.0*AU\n",
    "sigma0 = 100.0 # g/cm^2 # surface density at rscale\n",
    "T0 = 100.0 # K # temperature at rscale\n",
    "mu = 2.0*mH # approximate mean molecular weight for disk gas (molecular hydrogen)\n",
    "cs0 = np.sqrt(kB*T0/mu) # sound speed at rscale\n",
    "alpha = 1e-3 # alpha parameter for the accretion disk\n",
    "M_star = Msun\n",
    "\n",
    "# INSERT YOUR EXPRESSION(S) HERE\n",
    "Omega = np.sqrt(G*M_star/rscale**3)\n",
    "H0 = cs0/Omega  # scale height of disk at rscale\n",
    "\n",
    "# kinematic viscosity at rscale\n",
    "nu0 = alpha*cs0*H0\n",
    "\n",
    "# INSERT YOUR RESULT HERE\n",
    "gamma = 1.0\n",
    "\n",
    "# viscous time\n",
    "tvisc = rscale**2/nu0\n",
    "\n",
    "# define function nu that takes radius r and returns the viscosity\n",
    "nu = lambda r: nu0*(r/rscale)**gamma"
   ]
  },
  {
   "cell_type": "markdown",
   "metadata": {
    "id": "HiMCsYbPonEs"
   },
   "source": [
    "#### Plot the similarity solution \n",
    "\n",
    "**Plot the similarity solution at time 0, 0.1 viscous times, 1 viscous time, and 3 viscous times.**"
   ]
  },
  {
   "cell_type": "code",
   "execution_count": 11,
   "metadata": {
    "id": "UJuwytihqeka"
   },
   "outputs": [
    {
     "data": {
      "text/plain": [
       "Text(0, 0.5, '$\\\\Sigma$')"
      ]
     },
     "execution_count": 11,
     "metadata": {},
     "output_type": "execute_result"
    },
    {
     "data": {
      "image/png": "[encoded data removed]",
      "text/plain": [
       "<Figure size 432x288 with 1 Axes>"
      ]
     },
     "metadata": {
      "needs_background": "light"
     },
     "output_type": "display_data"
    }
   ],
   "source": [
    "plt.rcParams[\"font.family\"] = \"Times New Roman\"\n",
    "plt.rc('font', size=18)\n",
    "\n",
    "sigma_0 = sig_sim(0.0, rad_arr, rscale, sigma0, nu0, gamma)\n",
    "sigma_01 = sig_sim(0.1*tvisc, rad_arr, rscale, sigma0, nu0, gamma)\n",
    "sigma_1 = sig_sim(tvisc, rad_arr, rscale, sigma0, nu0, gamma)\n",
    "sigma_3 = sig_sim(3.0*tvisc,rad_arr, rscale, sigma0, nu0, gamma)\n",
    "\n",
    "\n",
    "\n",
    "plt.plot(rad_arr/AU, sigma_0, 'k')\n",
    "plt.plot(rad_arr/AU, sigma_01, 'm')\n",
    "plt.plot(rad_arr/AU, sigma_1, 'b')\n",
    "plt.plot(rad_arr/AU, sigma_3, 'g')\n",
    "plt.axvline(x=rscale/AU, color='red', linestyle='dashed')\n",
    "\n",
    "\n",
    "plt.xscale(\"log\")\n",
    "plt.yscale(\"log\")\n",
    "plt.xlim(0.01,1000)\n",
    "plt.ylim(1e-4,1e6)\n",
    "plt.xlabel(\"r / AU\")\n",
    "plt.ylabel(\"$\\Sigma$\")\n"
   ]
  },
  {
   "cell_type": "markdown",
   "metadata": {
    "id": "W_S7Pd-eonEu"
   },
   "source": [
    "### First attempt to numerically solve to evolution equation\n",
    "\n",
    "Let's see if we can discretize the equation in an easy way\n",
    "\n",
    "$\\frac{\\partial\\Sigma}{\\partial t} = \\frac{3}{r} \\frac{\\partial}{\\partial r}\\left[r^{1/2} \\frac{\\partial}{\\partial r} (\\Sigma \\nu r^{1/2})\\right]$\n",
    "\n",
    "and get a good answer. We'll use a finite difference method to calculate the radial derivatives and then evolve the equation forward in time by saying that $\\Delta \\Sigma$ is equal to the right-hand side of the equation times $\\Delta t$.  This is similar to what we did to solve the wind outflow problem in an earlier problem set, but *try* to make things easy, we'll use the built-in numpy function np.gradient to calculate the radial derivatives (for details on the finite difference scheme it uses, see the documentation)."
   ]
  },
  {
   "cell_type": "code",
   "execution_count": 12,
   "metadata": {
    "id": "58GHqsn-onEu"
   },
   "outputs": [],
   "source": [
    "delta_t = 1e-3*tvisc # timestep for simulation\n",
    "t_arr = np.arange(0,5.0*tvisc,delta_t) # array of times\n",
    "sig_arr = np.zeros((len(t_arr),len(rad_arr))) # array to hold surface density results"
   ]
  },
  {
   "cell_type": "code",
   "execution_count": 13,
   "metadata": {
    "id": "Go93CWZzonEv"
   },
   "outputs": [],
   "source": [
    "# Initial condition\n",
    "sig_arr[0] = sig_sim(0.0, rad_arr, rscale, sigma0, nu0, gamma)"
   ]
  },
  {
   "cell_type": "code",
   "execution_count": 14,
   "metadata": {
    "id": "5YM7fII3onEv"
   },
   "outputs": [
    {
     "name": "stdout",
     "output_type": "stream",
     "text": [
      "0%\n",
      "10%\n",
      "20%\n"
     ]
    },
    {
     "name": "stderr",
     "output_type": "stream",
     "text": [
      "<ipython-input-14-205abf33d196>:9: RuntimeWarning: overflow encountered in multiply\n",
      "  grad1 = np.gradient(nu(rad_arr)*sig_arr[i]*rad_arr**0.5, rad_arr)\n",
      "C:\\Users\\dougl\\anaconda3\\lib\\site-packages\\numpy\\lib\\function_base.py:1081: RuntimeWarning: invalid value encountered in multiply\n",
      "  out[tuple(slice1)] = a * f[tuple(slice2)] + b * f[tuple(slice3)] + c * f[tuple(slice4)]\n",
      "C:\\Users\\dougl\\anaconda3\\lib\\site-packages\\numpy\\lib\\function_base.py:1081: RuntimeWarning: invalid value encountered in add\n",
      "  out[tuple(slice1)] = a * f[tuple(slice2)] + b * f[tuple(slice3)] + c * f[tuple(slice4)]\n"
     ]
    },
    {
     "name": "stdout",
     "output_type": "stream",
     "text": [
      "30%\n",
      "40%\n",
      "50%\n",
      "60%\n",
      "70%\n",
      "80%\n",
      "90%\n",
      "100%\n",
      "Integration took 0.892 seceonds\n"
     ]
    }
   ],
   "source": [
    "tstart = time.time() # for tracking how long the integration takes\n",
    "\n",
    "for i in range(len(t_arr)-1): # loop through array of times\n",
    "    \n",
    "    # np.gradient(f,x) returns an array containing df/dx, calculated\n",
    "    # using a finite difference method (see the man page for details)\n",
    "    # np.gradient IS GREAT FOR WHEN YOU NEED TO PLOT DERIVATIVES\n",
    "    \n",
    "    grad1 = np.gradient(nu(rad_arr)*sig_arr[i]*rad_arr**0.5, rad_arr)\n",
    "    grad2 = np.gradient(rad_arr**0.5*grad1, rad_arr)\n",
    "     \n",
    "    dSigdt = (3./rad_arr)*grad2\n",
    "    \n",
    "    sig_arr[i+1] = sig_arr[i] + dSigdt*delta_t\n",
    "           \n",
    "    if (i % int((len(t_arr)-1)/10) == 0):\n",
    "        print (\"%i%%\" %math.ceil(100*i/(len(t_arr)-1))) # simple progress tracker\n",
    "    \n",
    "print(\"Integration took %.3f seceonds\" %(time.time()-tstart)) # print how long integration took"
   ]
  },
  {
   "cell_type": "markdown",
   "metadata": {
    "id": "XxcWx1toonEv"
   },
   "source": [
    "#### Plot the solution\n",
    "\n",
    "**Plot the solution at several output time indices.**"
   ]
  },
  {
   "cell_type": "code",
   "execution_count": 17,
   "metadata": {
    "id": "-5yJ3-_4onEv"
   },
   "outputs": [
    {
     "data": {
      "text/plain": [
       "Text(0.5, 1.0, 'Index = 5')"
      ]
     },
     "execution_count": 17,
     "metadata": {},
     "output_type": "execute_result"
    },
    {
     "data": {
      "image/png": "[encoded data removed]",
      "text/plain": [
       "<Figure size 432x288 with 1 Axes>"
      ]
     },
     "metadata": {
      "needs_background": "light"
     },
     "output_type": "display_data"
    }
   ],
   "source": [
    "ind = 5 # choose which time index to plot\n",
    "\n",
    "sig_analyt_0 = sig_sim(t_arr[0], rad_arr, rscale, sigma0, nu0, gamma)\n",
    "sig_analyt = sig_sim(t_arr[ind], rad_arr, rscale, sigma0, nu0, gamma)\n",
    "\n",
    "plt.loglog(rad_arr/AU, sig_analyt_0, color='blue')\n",
    "plt.loglog(rad_arr/AU, sig_analyt, color='red')\n",
    "\n",
    "plt.loglog(rad_arr/AU, sig_arr[ind], color='black', linestyle='dashed')\n",
    "\n",
    "plt.xlim(0.01,1000)\n",
    "plt.ylim(1e-4,1e6)\n",
    "plt.title(\"Index = 5\")"
   ]
  },
  {
   "cell_type": "code",
   "execution_count": 20,
   "metadata": {},
   "outputs": [
    {
     "data": {
      "text/plain": [
       "Text(0.5, 1.0, 'Index = 15')"
      ]
     },
     "execution_count": 20,
     "metadata": {},
     "output_type": "execute_result"
    },
    {
     "data": {
      "image/png": "[encoded data removed]",
      "text/plain": [
       "<Figure size 432x288 with 1 Axes>"
      ]
     },
     "metadata": {
      "needs_background": "light"
     },
     "output_type": "display_data"
    }
   ],
   "source": [
    "ind = 15 # choose which time index to plot\n",
    "\n",
    "sig_analyt_0 = sig_sim(t_arr[0], rad_arr, rscale, sigma0, nu0, gamma)\n",
    "sig_analyt = sig_sim(t_arr[ind], rad_arr, rscale, sigma0, nu0, gamma)\n",
    "\n",
    "plt.loglog(rad_arr/AU, sig_analyt_0, color='blue')\n",
    "plt.loglog(rad_arr/AU, sig_analyt, color='red')\n",
    "\n",
    "plt.loglog(rad_arr/AU, sig_arr[ind], color='black', linestyle='dashed')\n",
    "\n",
    "plt.xlim(0.01,1000)\n",
    "plt.ylim(1e-4,1e6)\n",
    "plt.title(\"Index = 15\")"
   ]
  },
  {
   "cell_type": "markdown",
   "metadata": {
    "id": "qK7RySelonEv"
   },
   "source": [
    "Uh oh.  Let's zoom in to show that we are actually solving the right equation (it's just numerically unstable):"
   ]
  },
  {
   "cell_type": "code",
   "execution_count": 21,
   "metadata": {
    "id": "xEPwah97onEv"
   },
   "outputs": [
    {
     "data": {
      "text/plain": [
       "Text(0.5, 1.0, 'Index = 15')"
      ]
     },
     "execution_count": 21,
     "metadata": {},
     "output_type": "execute_result"
    },
    {
     "data": {
      "image/png": "[encoded data removed]",
      "text/plain": [
       "<Figure size 432x288 with 1 Axes>"
      ]
     },
     "metadata": {
      "needs_background": "light"
     },
     "output_type": "display_data"
    }
   ],
   "source": [
    "ind = 15 # choose which time index to plot\n",
    "\n",
    "sig_analyt_0 = sig_sim(t_arr[0], rad_arr, rscale, sigma0, nu0, gamma)\n",
    "sig_analyt = sig_sim(t_arr[ind], rad_arr, rscale, sigma0, nu0, gamma)\n",
    "\n",
    "plt.plot(rad_arr/AU, sig_analyt_0, color='blue')\n",
    "plt.plot(rad_arr/AU, sig_analyt, color='red')\n",
    "\n",
    "plt.plot(rad_arr/AU, sig_arr[ind], color='black', linestyle='dashed')\n",
    "\n",
    "plt.xlim(1,10)\n",
    "plt.ylim(1e2,1e3)\n",
    "plt.title(\"Index = 15\")"
   ]
  },
  {
   "cell_type": "markdown",
   "metadata": {
    "id": "6gt7RVxGonEw"
   },
   "source": [
    "You should see the black dashed line on top of the red line.  So, it's evolving the equation but some numerical instability is making the solution blow up.  It's possible that increasing the time and spatial resolution could help.  Changing the boundary conditions from the default used by np.gradient could also help.  We will use a different method to solve the equations."
   ]
  },
  {
   "cell_type": "markdown",
   "metadata": {
    "id": "dNVqSJwBonEw"
   },
   "source": [
    "### Disk evolution solver\n",
    "\n",
    "This code solves the for time evolution of the surface density of an accretion disk using an **implicit method**.  This will give a more stable solution than the method we tried above.  More on implicit methods below.  First, let's put our equation in a nicer form:  \n",
    "\n",
    "Recall the equation we are solving is:\n",
    "$\\frac{\\partial\\Sigma}{\\partial t} = \\frac{3}{r} \\frac{\\partial}{\\partial r}\\left[r^{1/2} \\frac{\\partial}{\\partial r} (\\Sigma \\nu r^{1/2})\\right]$\n",
    "\n",
    "It is easier to solve if the double derivative is together, in the form $\\frac{\\partial^2}{\\partial y^2}$, so we'll define $\\frac{\\partial}{\\partial y} \\equiv r^{1/2}\\frac{\\partial}{\\partial r}$.  Integrating, that implies that $y = 2r^{1/2}$.  So, we have:\n",
    "\n",
    "$\\frac{\\partial\\Sigma}{\\partial t} = \\frac{3}{r^{3/2}} \\frac{\\partial^2}{\\partial y^2} (\\Sigma \\nu r^{1/2})$\n",
    "\n",
    "Now we want to combine all of the dependences inside the derivative so we can calculate the derivative all at once.  Since $\\nu = \\nu_0 (r/r_0)^\\gamma$ (we are using rscale for $r_0$), we'll  let $u = \\Sigma r^{\\gamma + 1/2}$. We now have\n",
    "\n",
    "$\\frac{\\partial\\Sigma}{\\partial t} = \\frac{3}{r^{3/2}} \\frac{\\partial^2}{\\partial y^2} (\\Sigma \\nu_0 r_0^{-\\gamma} r^{\\gamma + 1/2}) = 3\\nu_0 r^{-3/2}r_0^{-\\gamma} \\frac{\\partial^2 u}{\\partial y^2}$\n",
    "\n",
    "Since $r$ isn't a function of time, we can bring factors of $r$ inside the time derivative to transform $\\Sigma$ into $u$ on the left:\n",
    "\n",
    "$r^{-(\\gamma + 1/2)}\\frac{\\partial(\\Sigma r^{\\gamma + 1/2})}{\\partial t} = 3\\nu_0 r^{-3/2}r_0^{-\\gamma} \\frac{\\partial^2 u}{\\partial y^2}$\n",
    "\n",
    "$\\frac{\\partial u}{\\partial t} = 3 \\nu_0 \\left(\\frac{r}{r_0}\\right)^\\gamma r^{-1} \\frac{\\partial^2 u}{\\partial y^2}$\n",
    "\n",
    "Using the expression for $\\nu$ and $y = 2r^{1/2}$ (so everything is in terms of $u$ and $y$):\n",
    "\n",
    "$\\frac{\\partial u}{\\partial t} = 12\\nu y^{-2} \\frac{\\partial^2 u}{\\partial y^2}$\n",
    "\n",
    "That's much nicer!\n",
    "\n",
    "This can be transformed into the discrete expression:\n",
    "\n",
    "$\\frac{\\Delta u}{\\Delta t} = 12 \\nu y^{-2} \\frac{\\Delta^2 u}{(\\Delta y)^2}$\n",
    "\n",
    "where $\\Delta^2$ just reminds us that we're thinking about a second derivative.  We will use a **backwards-in-time, central in space (BTCS)** implicit menthod to calculate the values of $\\Delta u$ on each side of the equation.  This will overcome our stability issues.  There are a variety of ways to do this, often with acronyms like BTCS, and it's not obvious (at least to me) which one will do best for a given problem, but often you can find guidance for similar problems to help you decide.  The implementation below is based on an example by Mickey Rosenthal.\n",
    "\n",
    "Using $i$ for the spatial index and $j$ for the time index:\n",
    "\n",
    "\"*Backwards in time*\": We'll calculate the spatial derivative of $u$ at time $j+1$, so $\\Delta u$ is calculated \"backwards in time\" by taking the difference between that and the previous time: $\\Delta u = u_i^{j+1} - u_i^{j}$\n",
    "\n",
    "\"*Central in space*\": The second derivative $\\Delta^2 u$ is approximated $(u_{i+1} - u_i) - (u_i - u_{i-1})$.  Evaluating at time $j+1$: $\\Delta^2 u = u_{i+i}^{j+1} - 2u_i^{j+1} + u_{i-1}^{j+1}$\n",
    "\n",
    "So, we have \n",
    "\n",
    "$\\frac{u_i^{j+1} - u_i^{j}}{\\Delta t} = 12\\frac{\\nu}{y^2} \\frac{u_{i+i}^{j+1} - 2u_i^{j+1} + u_{i-1}^{j+1}}{(\\Delta y)^2}$\n",
    "\n",
    "For convenience, let's define $C_i = 12 \\frac{\\Delta t}{(\\Delta y)^2} \\frac{\\nu}{y^2}$, where we have subscripted $i$ to remind us that it is evaluated at spatial location $i$.  Rearranging, we get\n",
    "\n",
    "$u_i^{j} = -C_i u_{i+1}^{j+1} + (1 + 2C_i) u_i^{j+1} - C_i u_{i-1}^{j+1}$\n",
    "\n",
    "This equation is **implicit** (as opposed to **explicit**) because the value of u at time $j+1$ isn't written explicitly as a function of the value at time $j$ but instead an equation relating the two is provided (that implicitly gives the value at time $j+1$ as a function of the value at time $j$). We need to do some solving to get the value at time $j+1$.  Solving implicit equations is a little more challenging than the explicit version.  Note that this is a matrix equation $\\vec u^{j} = M \\vec u^{j+1}$, where if you write it out you'll see that the matrix M is \"tridiagonal.\"  Each row in the matrix has $1+2C_i$ on the diagonal, $-C_i$ to the left of the diagonal, and $-C_i$ to the right of the diagonal.  Luckily we have a utility to solve equations like this up top.  Note that the top row doesn't have a \"left of the diagonal\" and the bottom row doesn't have a \"right of the diagonal\" spot, so we need to choose how to handle these boundary conditions. "
   ]
  },
  {
   "cell_type": "code",
   "execution_count": 26,
   "metadata": {
    "id": "T1ivllvhonEw"
   },
   "outputs": [],
   "source": [
    "# I made it a class!  The number of times I typed \"self\" was large.  Is that how\n",
    "# it's supposed to be, Jules?\n",
    "class disk_integration:\n",
    "    \"\"\" A class for performing a time integration of the surface density\n",
    "    of an accretion disk using a BTCS implicit method.\n",
    "    \n",
    "    Parameters\n",
    "    ----------\n",
    "    r_inner : float, optional\n",
    "        Inner radius of the disk (cm)\n",
    "    r_outer: float, optional\n",
    "        Outer radius of the disk (cm)\n",
    "    npts : int, optional\n",
    "        Number of radial points\n",
    "    r0 : float, optional\n",
    "        Disk reference radius (cm)\n",
    "    sigma0 : float, optional\n",
    "        Surface density normalization (g/cm^2) at radius r0\n",
    "    T0 : float, optional\n",
    "        Disk temperature at radius r0 (K)\n",
    "    alpha : float, optional \n",
    "        Parameter for computing viscosity (dimensionless)\n",
    "    gamma : float, optional\n",
    "        Powerlaw index for radial dependence of viscosity nu = nu0(r/r0)^gamma\n",
    "    Mstar : float, optional\n",
    "        Mass of the central star (g)\n",
    "    delta_t : int, optional\n",
    "        Time step of the integration in units of the viscous time at radius r0\n",
    "    tfinal : float, optional\n",
    "        Final time for the integration, in units of the viscous time at radius r0\n",
    "    \"\"\"\n",
    "    \n",
    "    def __init__(self, r_inner=0.01*AU, r_outer=1e3*AU, npts=300, r0=10.0*AU, sigma0=100.0, T0 = 100.0, alpha=1e-3, gamma=1.0, Mstar=Msun, delta_t=1e-3, tfinal=5.0):\n",
    "        \n",
    "        # add all the inputs as variables\n",
    "        self.r_inner = r_inner\n",
    "        self.r_outer = r_outer\n",
    "        self.npts = npts\n",
    "        self.r0 = r0\n",
    "        self.sigma0 = sigma0\n",
    "        self.T0 = T0\n",
    "        self.alpha = alpha\n",
    "        self.gamma = gamma\n",
    "        self.Mstar = Mstar\n",
    "        self.delta_t = delta_t\n",
    "        self.tfinal = tfinal\n",
    "    \n",
    "        # calculate the viscosity normalization at r0\n",
    "        self.mu = 2.0*mH # mean molecular weight (g)\n",
    "        self.cs0 = np.sqrt(kB*self.T0/self.mu) # sound speed at r0\n",
    "        self.Omega = np.sqrt(G*self.Mstar/self.r0**3) # orbital angular frequency at r0\n",
    "        self.H0 = self.cs0/self.Omega  # scale height of disk at r0\n",
    "        self.nu0 = self.alpha*self.cs0*self.H0 # kinematic viscosity at r0\n",
    "\n",
    "        # calculate the viscous time and set up the array of times\n",
    "        self.tvisc = self.r0**2/self.nu0\n",
    "        self.delta_t = self.delta_t*self.tvisc # timestep for simulation (s)\n",
    "        self.tfinal = self.tfinal*self.tvisc # end time for simulation (s)\n",
    "        self.t_arr = np.arange(0,self.tfinal,self.delta_t) # array of times\n",
    "        \n",
    "        # set up the radius array, making it linear in our transformed variable y\n",
    "        # for nice differencing\n",
    "        self.y_arr = np.linspace(2*self.r_inner**(1/2),2*self.r_outer**(1/2),num=self.npts)\n",
    "        self.delta_y = self.y_arr[1]-self.y_arr[0]\n",
    "        self.rad_arr = (self.y_arr/2.)**2. # array of actual disance from star (cm)\n",
    "\n",
    "        # set up surface density array in transformed variables\n",
    "        self.u_arr = np.zeros((len(self.t_arr),len(self.y_arr))) # array to hold transformed surface density\n",
    "        self.sig_arr = np.zeros(self.u_arr.shape) # array to hold actual surface density (g/cm^2)\n",
    "  \n",
    "\n",
    "    def sig_sim(self, t):\n",
    "        \"\"\" Calculate similarity solution for the disk at time t \n",
    "        \n",
    "        Parameters\n",
    "        ----------\n",
    "        t : float\n",
    "            Time (s)\n",
    "        \"\"\" \n",
    "        R = self.rad_arr/self.r0 # normalized radius variable\n",
    "    \n",
    "        tvisc_mod = self.tvisc / (3*(2-self.gamma)**2) # viscous timescale times an order unity constant\n",
    "        T = t/tvisc_mod + 1 # time normalized to viscous timescale\n",
    "        # (see module for discussion of this similarity solution) \n",
    "    \n",
    "        C = self.sigma0*np.exp(1) # normalization coefficient\n",
    "        sigma = C/R**gamma*T**(-(5./2.-gamma)/(2.-gamma))*np.exp(-R**(2.-gamma)/T)\n",
    "    \n",
    "        return sigma\n",
    "    \n",
    "    def sig_delta(self):\n",
    "        \"\"\" Generate a gaussian surface density profile at radius r0 that is \n",
    "            thin to mimic a delta function. \"\"\"\n",
    "\n",
    "        # YOUR FUNCTION HERE\n",
    "        thin = 0.01 # parameter giving the initial thinness of the gaussian\n",
    "        \n",
    "        # standard deviation of the gaussian\n",
    "        stddev = thin*self.r0/2. # factor of 2 because the standard deviation is half the gaussian width\n",
    "        \n",
    "        mean = self.r0 # center of the gaussian\n",
    "        \n",
    "        # for approximate comparison, put the same disk mass in a ring with area\n",
    "        # 2*pi*r0*(thin*r0) that would otherwise be in area pi*r0^2, hence the\n",
    "        # factor of 2\n",
    "        sigma = self.sigma0/(thin*2.0)*np.exp(-0.5*((self.rad_arr-mean)/stddev)**2)\n",
    "        \n",
    "        \n",
    "        return sigma\n",
    "        \n",
    "    \n",
    "    def set_ic(self, ic_type):\n",
    "        \"\"\" Set up the initial disk surface density profile \n",
    "        \n",
    "        Parameters\n",
    "        ----------\n",
    "        ic_type : str\n",
    "            Type of initial condition.  Options: 'selfsim' = self-similar disk,\n",
    "            'deltafn' = thin Gaussian approximating a delta function.\n",
    "        \"\"\"\n",
    "        if ic_type == 'selfsim':\n",
    "            sig_init = self.sig_sim(self.t_arr[0])\n",
    "        elif ic_type == 'deltafn':\n",
    "            sig_init = self.sig_delta()\n",
    "        else:\n",
    "            raise NotImplementedError(f\"I don't have initial conditions for type {ic_type}.\")\n",
    "        \n",
    "        self.u_arr[0] = sig_init*self.rad_arr**(self.gamma+1/2)\n",
    "        self.sig_arr[0] = self.u_arr[0]/(self.rad_arr**(self.gamma+1/2)) # we'll transform to actual surface density as we go \n",
    "      \n",
    "        \n",
    "    def nu(self, r):\n",
    "        \"\"\" Calculate the viscosity at radius r \n",
    "        \n",
    "        Parameters\n",
    "        ----------\n",
    "        r : float or array of floats\n",
    "            Disk radius or radii (cm)\n",
    "        \"\"\"\n",
    "        return self.nu0*(r/self.r0)**self.gamma\n",
    "    \n",
    "    \n",
    "    def C_i(self, i):\n",
    "        \"\"\" Calculate C_i, defined in the Markdown notes\n",
    "        \n",
    "        Parameters\n",
    "        ----------\n",
    "        i : int\n",
    "            Radial position index\n",
    "        \"\"\"\n",
    "        return 12.*self.delta_t/self.delta_y**2.*self.nu(self.rad_arr[i])/self.y_arr[i]**2.\n",
    "    \n",
    "   \n",
    "    def evolve_disk(self):\n",
    "\n",
    "        # for keeping track of how long the integration takes\n",
    "        tstart = time.time()\n",
    "\n",
    "        # In each time step, we'll solve the matrix equation excluding \n",
    "        # the two boundary radii, then explicitly adjust the boundaries\n",
    "        N = len(self.y_arr)-2 # number of radii minus the two boundaries\n",
    "\n",
    "        # for holding adjustments to the matrix to account for boundary conditions (BCs)\n",
    "        bc_vec = np.zeros(N)\n",
    "    \n",
    "        for j in range(len(self.t_arr)-1): # loop through array of times\n",
    "        \n",
    "            # These are for setting up an array for tri-diagonal solving. \n",
    "            # In each row of the matrix, b is the value on the diagonal, \n",
    "            # a is the value to the left of the diagonal, and\n",
    "            # c is the value to the right of the diagonal.\n",
    "            # The vectors a, b, and c are indexed by the matrix row.\n",
    "            a = np.zeros(N)\n",
    "            b = np.zeros(N)\n",
    "            c = np.zeros(N)\n",
    "    \n",
    "            # Choose a fixed value D_in for u at the innermost radius.\n",
    "            # Setting to a fixed value is called a Dirichlet boundary condition.\n",
    "            D_in = 0.0  # fixed value of u_0\n",
    "            # We'll add the below to the value of u_1^j (the second radial location)\n",
    "            # before solving the matrix equation.  Without this, the matrix equation \n",
    "            # set up below would be, at the left boundary (where there is no value, a, \n",
    "            # to the left of the diagonal because it's the top left corner of the matrix):\n",
    "            # u_1^j = -C_1 u_2^{j+1} + (1 + 2C_1) u_1^{j+1} but we want\n",
    "            # u_1^j = -C_1 u_2^{j+1} + (1 + 2C_1) u_1^{j+1} - C_1 u_0^{j+1}\n",
    "            # We accomplish this by adding C_1 u_0 to u_1^j before solving the matrix\n",
    "            # equation, so that u_1^j + C_1 u_0 = -C_1 u_2^{j+1} + (1 + 2C_1) u_1^{j+1}\n",
    "            bc_vec[0] = self.C_i(1)*D_in \n",
    "            # At the outer edge of the disk, we'll instead use a zero-derivative boundary\n",
    "            # condition, which is called a Neumann boundary condition.\n",
    "            # We'll add the below to the value of u_-2, where like Python indexing, \n",
    "            # I'm using -2 as shorthand for npts-2 (so that the index -1 refers to the last\n",
    "            # element of the array). \n",
    "            # The matrix equation without this extra addition would be\n",
    "            # u_-2^j = (1 + 2C_-2) u_-2^{j+1} - C_-2 u_-3\n",
    "            # but we want u_-2^j = -C_-2 u_-1^{j+1} + (1 + 2C_-2) u_-2^{j+1} - C_-2 u_-3^{j+1}\n",
    "            # with u_-1^{j+1} - u_-2^{j+1} = 0, so that u_-2^j = (1 + C_-2) u_-2^{j+1} - C_-2 u_-3^{j+1}\n",
    "            # We accomplish this by adding C_-2 u_-2^j to u_-2^j before solving the matrix\n",
    "            # equation, so that u_-2^j + C_-2 u_-2^j = (1 + 2C_-2) u_-2^{j+1} - C_-2 u_-3.\n",
    "            # It's not exactly perfect since the extra term on the LHS has u_-2^j instead\n",
    "            # of u_-2^{j+1}, but it does the job.\n",
    "            bc_vec[-1] = self.C_i(-2)*self.u_arr[j][-2] \n",
    "    \n",
    "            for i in range(N): \n",
    "            \n",
    "                # Set up and solve the matrix equation.\n",
    "                # (If this were an explicit scheme we'd loop through u_arr \n",
    "                # and set the values of u[j+1] explicitly.)\n",
    "        \n",
    "                Ci = self.C_i(i)\n",
    "        \n",
    "                if i == 0: # a[0] is undefined\n",
    "                    b[0] = 1+2*Ci\n",
    "                    c[0] = -Ci\n",
    "                elif i == N - 1: # c[-1] is undefined\n",
    "                    a[-1] = -Ci\n",
    "                    b[-1] = 1+2*Ci\n",
    "                else:\n",
    "                    a[i] = -Ci\n",
    "                    b[i] = 1+2*Ci\n",
    "                    c[i] = -Ci\n",
    "                    \n",
    "            sol = solve_tri_diag(a,b,c,self.u_arr[j][1:-1]+bc_vec)\n",
    "    \n",
    "            #u at next timestep is the solution with the inner and outer BCs added\n",
    "            self.u_arr[j+1] = np.concatenate(([D_in],sol,[sol[-1]])) \n",
    "        \n",
    "            self.sig_arr[j+1] = self.u_arr[j+1]/(self.rad_arr**(self.gamma+1/2)) # convert from u to actual surface density\n",
    "            \n",
    "            if (j % int((len(self.t_arr)-1)/10) == 0):\n",
    "                print (\"%i%%\" %math.ceil(100*j/(len(self.t_arr)-1))) # rudimentary progress tracker\n",
    "    \n",
    "        print(\"Integration took %.3f seceonds\" %(time.time()-tstart)) # print how long integration took\n"
   ]
  },
  {
   "cell_type": "markdown",
   "metadata": {
    "id": "OxijR-TMrXdW"
   },
   "source": [
    "Integrate the self-similar solution forward in time."
   ]
  },
  {
   "cell_type": "code",
   "execution_count": 23,
   "metadata": {
    "id": "I-9v_CNIonEw"
   },
   "outputs": [
    {
     "name": "stdout",
     "output_type": "stream",
     "text": [
      "0%\n",
      "10%\n",
      "20%\n",
      "30%\n",
      "40%\n",
      "50%\n",
      "60%\n",
      "70%\n",
      "80%\n",
      "90%\n",
      "100%\n",
      "Integration took 6.128 seceonds\n"
     ]
    }
   ],
   "source": [
    "# set up the disk\n",
    "disk = disk_integration()\n",
    "# set the initial condition\n",
    "disk.set_ic('selfsim')\n",
    "# run the simulation\n",
    "disk.evolve_disk()"
   ]
  },
  {
   "cell_type": "markdown",
   "metadata": {
    "id": "WCvdtTs3rhcp"
   },
   "source": [
    "Plot the result."
   ]
  },
  {
   "cell_type": "code",
   "execution_count": 24,
   "metadata": {
    "id": "ZiXhiyCronEw"
   },
   "outputs": [
    {
     "data": {
      "text/plain": [
       "(0.0001, 1000000.0)"
      ]
     },
     "execution_count": 24,
     "metadata": {},
     "output_type": "execute_result"
    },
    {
     "data": {
      "image/png": "[encoded data removed]",
      "text/plain": [
       "<Figure size 432x288 with 1 Axes>"
      ]
     },
     "metadata": {
      "needs_background": "light"
     },
     "output_type": "display_data"
    }
   ],
   "source": [
    "ind = 10\n",
    "\n",
    "\n",
    "plt.loglog(disk.rad_arr/AU,disk.sig_arr[0], 'b') # initial disk structure\n",
    "\n",
    "plt.loglog(disk.rad_arr/AU,disk.sig_arr[ind], 'k') # numerical result\n",
    "plt.loglog(disk.rad_arr/AU, disk.sig_sim(disk.t_arr[ind]), 'm--') # analytic result for comparison\n",
    "\n",
    "plt.loglog(disk.rad_arr/AU,disk.sig_arr[-1], color='gray') # numerical result at the end of the integration\n",
    "plt.loglog(disk.rad_arr/AU, disk.sig_sim(disk.t_arr[-1]), 'r--') # analytic result for comparison at the end of the integration\n",
    "\n",
    "plt.title(r\"$t = %.2f \\, \\tau_\\nu$\" %(disk.t_arr[ind]/disk.tvisc)) # the r makes this a raw string\n",
    "\n",
    "plt.xlim(6e-2,100)\n",
    "plt.ylim(1e-4,1e6)"
   ]
  },
  {
   "cell_type": "markdown",
   "metadata": {
    "id": "odf4IGo_rr4_"
   },
   "source": [
    "**Now add the ability to start with a \"delta function\" (really use a Gaussian to make it smooth) surface density profile instead of the self-similar solution.  Try to normalize your initial disk mass to have about the same total mass as the self-similar solution for the same parameter sigma0.  Integrate forward in time.  At late times, how does the profile compare to the self-similar solution?  Given your answer, what counts as \"late times\"?**"
   ]
  },
  {
   "cell_type": "code",
   "execution_count": 27,
   "metadata": {
    "id": "mqXeILGRonEw"
   },
   "outputs": [
    {
     "name": "stdout",
     "output_type": "stream",
     "text": [
      "0%\n",
      "10%\n",
      "20%\n",
      "30%\n",
      "40%\n",
      "50%\n",
      "60%\n",
      "70%\n",
      "80%\n",
      "90%\n",
      "100%\n",
      "Integration took 5.998 seceonds\n"
     ]
    }
   ],
   "source": [
    "#setup\n",
    "disk = disk_integration()\n",
    "disk.set_ic('deltafn')\n",
    "\n",
    "#integrate\n",
    "disk.evolve_disk()"
   ]
  },
  {
   "cell_type": "code",
   "execution_count": 28,
   "metadata": {},
   "outputs": [
    {
     "data": {
      "text/plain": [
       "(0.0001, 1000000.0)"
      ]
     },
     "execution_count": 28,
     "metadata": {},
     "output_type": "execute_result"
    },
    {
     "data": {
      "image/png": "[encoded data removed]",
      "text/plain": [
       "<Figure size 432x288 with 1 Axes>"
      ]
     },
     "metadata": {
      "needs_background": "light"
     },
     "output_type": "display_data"
    }
   ],
   "source": [
    "ind = 10\n",
    "\n",
    "plt.plot(disk.rad_arr/AU,disk.sig_arr[0], 'b') # initial disk structure\n",
    "\n",
    "plt.plot(disk.rad_arr/AU,disk.sig_arr[ind], 'k') # numerical result\n",
    "plt.plot(disk.rad_arr/AU, disk.sig_sim(disk.t_arr[ind]), 'm--') # analytic result for comparison\n",
    "\n",
    "plt.plot(disk.rad_arr/AU,disk.sig_arr[-1], color='gray') # numerical result\n",
    "plt.plot(disk.rad_arr/AU, disk.sig_sim(disk.t_arr[-1]), 'r--') # analytic result for comparison\n",
    "\n",
    "plt.title(r\"$t = %.2f \\, \\tau_\\nu$\" %(disk.t_arr[ind]/disk.tvisc)) # the r makes this a raw string\n",
    "plt.xscale(\"log\")\n",
    "plt.yscale(\"log\")\n",
    "plt.xlim(6e-2,100)\n",
    "plt.ylim(1e-4,1e6)"
   ]
  },
  {
   "cell_type": "code",
   "execution_count": 29,
   "metadata": {},
   "outputs": [
    {
     "data": {
      "text/plain": [
       "(0.0001, 1000000.0)"
      ]
     },
     "execution_count": 29,
     "metadata": {},
     "output_type": "execute_result"
    },
    {
     "data": {
      "image/png": "[encoded data removed]",
      "text/plain": [
       "<Figure size 432x288 with 1 Axes>"
      ]
     },
     "metadata": {
      "needs_background": "light"
     },
     "output_type": "display_data"
    }
   ],
   "source": [
    "ind = 500\n",
    "\n",
    "plt.plot(disk.rad_arr/AU,disk.sig_arr[0], 'b') # initial disk structure\n",
    "\n",
    "plt.plot(disk.rad_arr/AU,disk.sig_arr[ind], 'k') # numerical result\n",
    "plt.plot(disk.rad_arr/AU, disk.sig_sim(disk.t_arr[ind]), 'm--') # analytic result for comparison\n",
    "\n",
    "plt.plot(disk.rad_arr/AU,disk.sig_arr[-1], color='gray') # numerical result\n",
    "plt.plot(disk.rad_arr/AU, disk.sig_sim(disk.t_arr[-1]), 'r--') # analytic result for comparison\n",
    "\n",
    "plt.title(r\"$t = %.2f \\, \\tau_\\nu$\" %(disk.t_arr[ind]/disk.tvisc)) # the r makes this a raw string\n",
    "plt.xscale(\"log\")\n",
    "plt.yscale(\"log\")\n",
    "plt.xlim(6e-2,100)\n",
    "plt.ylim(1e-4,1e6)"
   ]
  },
  {
   "cell_type": "markdown",
   "metadata": {},
   "source": [
    "After about a viscous time, the solution looks exactly like the self-similar solution. "
   ]
  },
  {
   "cell_type": "code",
   "execution_count": null,
   "metadata": {},
   "outputs": [],
   "source": []
  }
 ],
 "metadata": {
  "colab": {
   "collapsed_sections": [],
   "name": "accretion_disk_module.ipynb",
   "provenance": []
  },
  "kernelspec": {
   "display_name": "Python 3",
   "language": "python",
   "name": "python3"
  },
  "language_info": {
   "codemirror_mode": {
    "name": "ipython",
    "version": 3
   },
   "file_extension": ".py",
   "mimetype": "text/x-python",
   "name": "python",
   "nbconvert_exporter": "python",
   "pygments_lexer": "ipython3",
   "version": "3.8.8"
  }
 },
 "nbformat": 4,
 "nbformat_minor": 1
}
