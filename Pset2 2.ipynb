{
 "cells": [
  {
   "cell_type": "code",
   "execution_count": 4,
   "id": "45b945cc",
   "metadata": {},
   "outputs": [],
   "source": [
    "import numpy as np\n",
    "import matplotlib.pyplot as plt\n",
    "from numpy.random import random\n",
    "\n",
    "plt.rcParams[\"font.family\"] = \"Times New Roman\"\n",
    "plt.rcParams[\"mathtext.rm\"] = \"Times New Roman\"\n",
    "plt.rcParams[\"font.serif\"] = \"Times New Roman\"\n",
    "plt.rcParams[\"mathtext.it\"] = \"Times New Roman:italic\"\n",
    "plt.rcParams[\"mathtext.bf\"] = \"Times New Roman:bold\"\n",
    "plt.rc('font', size=18)"
   ]
  },
  {
   "cell_type": "markdown",
   "id": "969f22d0",
   "metadata": {},
   "source": [
    "### 2a"
   ]
  },
  {
   "cell_type": "markdown",
   "id": "981f8ff6",
   "metadata": {},
   "source": [
    "Defining my scale-height and using the code from the repo to define my array of heights: z_rand"
   ]
  },
  {
   "cell_type": "code",
   "execution_count": 2,
   "id": "dc08a68a",
   "metadata": {},
   "outputs": [],
   "source": [
    "H = 1.0\n",
    "zmax = 7.0\n",
    "\n",
    "x_rand = random(100000)\n",
    "y_rand = random(100000)\n",
    "\n",
    "z_rand = np.zeros(100000)\n",
    "\n",
    "for i in range(len(z_rand)):\n",
    "    h = 0\n",
    "    while(h == 0):\n",
    "        h_loop = random()*zmax\n",
    "        probability = np.exp(-h_loop/H)\n",
    "        if random() <= probability:\n",
    "            h = h_loop\n",
    "    z_rand[i] = h"
   ]
  },
  {
   "cell_type": "markdown",
   "id": "ef06ebd8",
   "metadata": {},
   "source": [
    "Plotting histogram to check that they do follow an exponential, which they do."
   ]
  },
  {
   "cell_type": "code",
   "execution_count": 9,
   "id": "9ff2489b",
   "metadata": {},
   "outputs": [
    {
     "data": {
      "text/plain": [
       "(-0.2, 5.0)"
      ]
     },
     "execution_count": 9,
     "metadata": {},
     "output_type": "execute_result"
    },
    {
     "data": {
      "image/png": "[encoded data removed]",
      "text/plain": [
       "<Figure size 432x288 with 1 Axes>"
      ]
     },
     "metadata": {
      "needs_background": "light"
     },
     "output_type": "display_data"
    }
   ],
   "source": [
    "T = plt.hist(z_rand, bins=100)\n",
    "plt.xlim(-0.2,5)"
   ]
  },
  {
   "cell_type": "markdown",
   "id": "273a9b29",
   "metadata": {},
   "source": [
    "### 2b"
   ]
  },
  {
   "cell_type": "code",
   "execution_count": 12,
   "id": "bbeba086",
   "metadata": {},
   "outputs": [
    {
     "name": "stderr",
     "output_type": "stream",
     "text": [
      "100%|██████████████████████████████████████████████████████████████████████████| 20000/20000 [00:18<00:00, 1053.12it/s]\n"
     ]
    }
   ],
   "source": [
    "b = 0.008\n",
    "sigma = np.pi*b**2\n",
    "\n",
    "x_ph = random(20000)\n",
    "y_ph = random(20000)\n",
    "\n",
    "z_ph = np.zeros(20000)\n",
    "\n",
    "from tqdm import tqdm\n",
    "\n",
    "#got this from the solutions because my way was super convoluted and involved nested loops\n",
    "for j in tqdm(range(20000)):       \n",
    "    r_cyl = np.sqrt((x_rand-x_ph[j])**2 + (y_rand-y_ph[j])**2)\n",
    "    \n",
    "    cylinder = np.where(r_cyl < b)[0]\n",
    "    \n",
    "    if len(cylinder) == 0:  # no collisions\n",
    "        z_ph[j] = 0\n",
    "    else:\n",
    "        z_ph[j] = np.max(z_rand[cylinder])"
   ]
  },
  {
   "cell_type": "code",
   "execution_count": 15,
   "id": "84d73d19",
   "metadata": {},
   "outputs": [
    {
     "data": {
      "text/plain": [
       "<matplotlib.legend.Legend at 0x1f617b19af0>"
      ]
     },
     "execution_count": 15,
     "metadata": {},
     "output_type": "execute_result"
    },
    {
     "data": {
      "image/png": "[encoded data removed]",
      "text/plain": [
       "<Figure size 432x288 with 1 Axes>"
      ]
     },
     "metadata": {
      "needs_background": "light"
     },
     "output_type": "display_data"
    }
   ],
   "source": [
    "T = plt.hist(z_ph, bins=100)\n",
    "guess = 3\n",
    "plt.axvline(guess, c='k', label='guess ='+str(guess))\n",
    "\n",
    "plt.legend()"
   ]
  },
  {
   "cell_type": "markdown",
   "id": "d73f4643",
   "metadata": {},
   "source": [
    "### 2c"
   ]
  },
  {
   "cell_type": "markdown",
   "id": "a98403c8",
   "metadata": {},
   "source": [
    "\n",
    "#### We know the formula of optical depth to be \n",
    "\n",
    "#### $\\tau(z) = n(z) \\sigma H e^{-z/H}$\n",
    "\n",
    "#### If we want the total optical depth, we can write it for the surface ($z=0$):\n",
    "\n",
    "#### $\\tau = n(z) \\sigma H$\n"
   ]
  },
  {
   "cell_type": "markdown",
   "id": "d4652ba4",
   "metadata": {},
   "source": [
    "I was expecting the optical depth $\\tau$ to be closer to 1, but I suppose 0.6 is close enough to unity."
   ]
  },
  {
   "cell_type": "code",
   "execution_count": 16,
   "id": "8db121c2",
   "metadata": {},
   "outputs": [
    {
     "name": "stdout",
     "output_type": "stream",
     "text": [
      "0.6339813195238413\n"
     ]
    }
   ],
   "source": [
    "ichoose = np.where(z_rand < H)[0]\n",
    "\n",
    "volume = 1*1*H\n",
    "\n",
    "n_surf = len(ichoose)/volume\n",
    "\n",
    "n = n_surf*np.exp(-3./H)\n",
    "\n",
    "tau = n*sigma*H\n",
    "print(tau)"
   ]
  },
  {
   "cell_type": "code",
   "execution_count": 17,
   "id": "3bd60290",
   "metadata": {},
   "outputs": [
    {
     "name": "stdout",
     "output_type": "stream",
     "text": [
      "0.03156407129908208\n"
     ]
    }
   ],
   "source": [
    "z_LowAbsorption = 6\n",
    "\n",
    "tau_LowAbsorption = n_surf*np.exp(-z_LowAbsorption/H)*sigma*H\n",
    "print(tau_LowAbsorption)"
   ]
  },
  {
   "cell_type": "code",
   "execution_count": null,
   "id": "7d155384",
   "metadata": {},
   "outputs": [],
   "source": []
  }
 ],
 "metadata": {
  "kernelspec": {
   "display_name": "Python 3",
   "language": "python",
   "name": "python3"
  },
  "language_info": {
   "codemirror_mode": {
    "name": "ipython",
    "version": 3
   },
   "file_extension": ".py",
   "mimetype": "text/x-python",
   "name": "python",
   "nbconvert_exporter": "python",
   "pygments_lexer": "ipython3",
   "version": "3.8.8"
  }
 },
 "nbformat": 4,
 "nbformat_minor": 5
}
